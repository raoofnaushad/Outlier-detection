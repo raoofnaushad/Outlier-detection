{
 "cells": [
  {
   "cell_type": "code",
   "execution_count": 96,
   "metadata": {},
   "outputs": [],
   "source": [
    "import numpy as np\n",
    "import pandas as pd"
   ]
  },
  {
   "cell_type": "code",
   "execution_count": 97,
   "metadata": {},
   "outputs": [],
   "source": [
    "dataset = pd.read_csv('/home/accubits/Desktop/MARRIAGEDATA/Second Tab/1.csv', header=None)"
   ]
  },
  {
   "cell_type": "code",
   "execution_count": 98,
   "metadata": {
    "scrolled": true
   },
   "outputs": [
    {
     "data": {
      "text/html": [
       "<div>\n",
       "<style scoped>\n",
       "    .dataframe tbody tr th:only-of-type {\n",
       "        vertical-align: middle;\n",
       "    }\n",
       "\n",
       "    .dataframe tbody tr th {\n",
       "        vertical-align: top;\n",
       "    }\n",
       "\n",
       "    .dataframe thead th {\n",
       "        text-align: right;\n",
       "    }\n",
       "</style>\n",
       "<table border=\"1\" class=\"dataframe\">\n",
       "  <thead>\n",
       "    <tr style=\"text-align: right;\">\n",
       "      <th></th>\n",
       "      <th>0</th>\n",
       "      <th>1</th>\n",
       "      <th>2</th>\n",
       "      <th>3</th>\n",
       "      <th>4</th>\n",
       "      <th>5</th>\n",
       "      <th>6</th>\n",
       "      <th>7</th>\n",
       "      <th>8</th>\n",
       "      <th>9</th>\n",
       "      <th>10</th>\n",
       "    </tr>\n",
       "  </thead>\n",
       "  <tbody>\n",
       "    <tr>\n",
       "      <th>0</th>\n",
       "      <td>2C722ABE-4BCE-E911-A2BC-00155D138354</td>\n",
       "      <td>2019-09-03 13:07:14</td>\n",
       "      <td>2019-03-02 20:00:00.000</td>\n",
       "      <td>2019.0</td>\n",
       "      <td>APPID0001476-ABDULLA SAEED THABET SAEED ALJNEI...</td>\n",
       "      <td>ABDULLA SAEED THABET SAEED ALJNEIBI</td>\n",
       "      <td>23191.0</td>\n",
       "      <td>Abu Dhabi</td>\n",
       "      <td>أبوظبي</td>\n",
       "      <td>2019</td>\n",
       "      <td>9</td>\n",
       "    </tr>\n",
       "    <tr>\n",
       "      <th>1</th>\n",
       "      <td>4C722ABE-4BCE-E911-A2BC-00155D138354</td>\n",
       "      <td>2019-09-03 13:07:15</td>\n",
       "      <td>2018-07-01 20:00:00.000</td>\n",
       "      <td>2018.0</td>\n",
       "      <td>APPID0001477-ABDULLA AINA ABDULLA BADER ALAMER...</td>\n",
       "      <td>ABDULLA AINA ABDULLA BADER ALAMERI</td>\n",
       "      <td>21000.0</td>\n",
       "      <td>Abu Dhabi</td>\n",
       "      <td>أبوظبي</td>\n",
       "      <td>2019</td>\n",
       "      <td>9</td>\n",
       "    </tr>\n",
       "    <tr>\n",
       "      <th>2</th>\n",
       "      <td>AC722ABE-4BCE-E911-A2BC-00155D138354</td>\n",
       "      <td>2019-09-03 13:07:17</td>\n",
       "      <td>2017-05-24 20:00:00.000</td>\n",
       "      <td>2017.0</td>\n",
       "      <td>APPID0001480-NASSER MOHAMMED HASSAN ALJABERI-G...</td>\n",
       "      <td>NASSER MOHAMMED HASSAN ALJABERI</td>\n",
       "      <td>19585.0</td>\n",
       "      <td>Abu Dhabi</td>\n",
       "      <td>أبوظبي</td>\n",
       "      <td>2019</td>\n",
       "      <td>9</td>\n",
       "    </tr>\n",
       "    <tr>\n",
       "      <th>3</th>\n",
       "      <td>0C732ABE-4BCE-E911-A2BC-00155D138354</td>\n",
       "      <td>2019-09-03 13:07:20</td>\n",
       "      <td>2017-03-03 20:00:00.000</td>\n",
       "      <td>2017.0</td>\n",
       "      <td>APPID0001483-عبدالله علي سعيد العلوي-Grant</td>\n",
       "      <td>عبدالله علي سعيد العلوي</td>\n",
       "      <td>16200.0</td>\n",
       "      <td>Abu Dhabi</td>\n",
       "      <td>أبوظبي</td>\n",
       "      <td>2019</td>\n",
       "      <td>9</td>\n",
       "    </tr>\n",
       "    <tr>\n",
       "      <th>4</th>\n",
       "      <td>4C732ABE-4BCE-E911-A2BC-00155D138354</td>\n",
       "      <td>2019-09-03 13:07:21</td>\n",
       "      <td>2017-02-18 20:00:00.000</td>\n",
       "      <td>2017.0</td>\n",
       "      <td>APPID0001485-MOHAMMED NASSER ALI ALDEREI-Grant</td>\n",
       "      <td>MOHAMMED NASSER ALI ALDEREI</td>\n",
       "      <td>19825.0</td>\n",
       "      <td>Abu Dhabi</td>\n",
       "      <td>أبوظبي</td>\n",
       "      <td>2019</td>\n",
       "      <td>9</td>\n",
       "    </tr>\n",
       "  </tbody>\n",
       "</table>\n",
       "</div>"
      ],
      "text/plain": [
       "                                     0                    1   \\\n",
       "0  2C722ABE-4BCE-E911-A2BC-00155D138354  2019-09-03 13:07:14   \n",
       "1  4C722ABE-4BCE-E911-A2BC-00155D138354  2019-09-03 13:07:15   \n",
       "2  AC722ABE-4BCE-E911-A2BC-00155D138354  2019-09-03 13:07:17   \n",
       "3  0C732ABE-4BCE-E911-A2BC-00155D138354  2019-09-03 13:07:20   \n",
       "4  4C732ABE-4BCE-E911-A2BC-00155D138354  2019-09-03 13:07:21   \n",
       "\n",
       "                        2       3   \\\n",
       "0  2019-03-02 20:00:00.000  2019.0   \n",
       "1  2018-07-01 20:00:00.000  2018.0   \n",
       "2  2017-05-24 20:00:00.000  2017.0   \n",
       "3  2017-03-03 20:00:00.000  2017.0   \n",
       "4  2017-02-18 20:00:00.000  2017.0   \n",
       "\n",
       "                                                  4   \\\n",
       "0  APPID0001476-ABDULLA SAEED THABET SAEED ALJNEI...   \n",
       "1  APPID0001477-ABDULLA AINA ABDULLA BADER ALAMER...   \n",
       "2  APPID0001480-NASSER MOHAMMED HASSAN ALJABERI-G...   \n",
       "3         APPID0001483-عبدالله علي سعيد العلوي-Grant   \n",
       "4     APPID0001485-MOHAMMED NASSER ALI ALDEREI-Grant   \n",
       "\n",
       "                                    5        6          7       8     9   10  \n",
       "0  ABDULLA SAEED THABET SAEED ALJNEIBI  23191.0  Abu Dhabi  أبوظبي  2019   9  \n",
       "1   ABDULLA AINA ABDULLA BADER ALAMERI  21000.0  Abu Dhabi  أبوظبي  2019   9  \n",
       "2      NASSER MOHAMMED HASSAN ALJABERI  19585.0  Abu Dhabi  أبوظبي  2019   9  \n",
       "3              عبدالله علي سعيد العلوي  16200.0  Abu Dhabi  أبوظبي  2019   9  \n",
       "4          MOHAMMED NASSER ALI ALDEREI  19825.0  Abu Dhabi  أبوظبي  2019   9  "
      ]
     },
     "execution_count": 98,
     "metadata": {},
     "output_type": "execute_result"
    }
   ],
   "source": [
    "dataset.head()\n"
   ]
  },
  {
   "cell_type": "code",
   "execution_count": 99,
   "metadata": {},
   "outputs": [
    {
     "data": {
      "text/plain": [
       "11077.430753312303"
      ]
     },
     "execution_count": 99,
     "metadata": {},
     "output_type": "execute_result"
    }
   ],
   "source": [
    "mean = np.mean(dataset[6])\n",
    "mean"
   ]
  },
  {
   "cell_type": "code",
   "execution_count": 100,
   "metadata": {},
   "outputs": [
    {
     "data": {
      "text/plain": [
       "42473.4291144348"
      ]
     },
     "execution_count": 100,
     "metadata": {},
     "output_type": "execute_result"
    }
   ],
   "source": [
    "std = np.std(dataset[6])\n",
    "std"
   ]
  },
  {
   "cell_type": "code",
   "execution_count": 114,
   "metadata": {},
   "outputs": [],
   "source": [
    "dataset = dataset[(np.abs(dataset[6]-mean) > (2*std))]\n"
   ]
  }
 ],
 "metadata": {
  "kernelspec": {
   "display_name": "Python 3",
   "language": "python",
   "name": "python3"
  },
  "language_info": {
   "codemirror_mode": {
    "name": "ipython",
    "version": 3
   },
   "file_extension": ".py",
   "mimetype": "text/x-python",
   "name": "python",
   "nbconvert_exporter": "python",
   "pygments_lexer": "ipython3",
   "version": "3.6.9"
  }
 },
 "nbformat": 4,
 "nbformat_minor": 2
}
